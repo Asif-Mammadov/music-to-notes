{
  "nbformat": 4,
  "nbformat_minor": 0,
  "metadata": {
    "colab": {
      "name": "fft.ipynb",
      "provenance": [],
      "collapsed_sections": []
    },
    "kernelspec": {
      "name": "python3",
      "display_name": "Python 3"
    },
    "language_info": {
      "name": "python"
    }
  },
  "cells": [
    {
      "cell_type": "code",
      "execution_count": null,
      "metadata": {
        "id": "yduB1Ddh61FO"
      },
      "outputs": [],
      "source": [
        "# libraries\n",
        "\n",
        "from scipy.io import wavfile\n",
        "import matplotlib.pyplot as plt\n",
        "import numpy as np\n"
      ]
    },
    {
      "cell_type": "code",
      "source": [
        "def wav_to_fft(file_path):\n",
        "  # read in sound file\n",
        "  samplerate, data = wavfile.read(file_path)\n",
        "\n",
        "  # define sound metadata\n",
        "  data_size = data.shape[0]\n",
        "  song_length_seconds = data_size/samplerate\n",
        "\n",
        "  # print sound metadata\n",
        "  print(\"Data size:\", data_size)\n",
        "  print(\"Sample rate:\", samplerate)\n",
        "  print(\"Song length (seconds):\", song_length_seconds, \"seconds\")\n",
        "\n",
        "  #taking the Transpose of the numpy array\n",
        "  array = data.T[1]\n",
        "\n",
        "  t = np.arange(len(array))\n",
        "  frequencies = np.fft.fftfreq(t.shape[-1])*samplerate\n",
        "  sp = np.fft.fft(array) \n",
        "  music = []\n",
        "\n",
        "  amplitude = abs(sp.real)\n",
        "\n",
        "  plt.xlim([0, 3000])\n",
        "  plt.xlabel(\"Frequency (Hz)\")\n",
        "  plt.ylabel(\"Amplitude\")\n",
        "  plt.plot(frequencies, amplitude)\n",
        "  plt.show()\n",
        "\n",
        "  indexes = np.where((frequencies > 16) & (frequencies < 8000))\n",
        "  notes_freq = np.round_(frequencies[indexes], 2)\n",
        "\n",
        "  return notes_freq  \n",
        "\n",
        "wav_to_fft('/content/hpd.wav')\n"
      ],
      "metadata": {
        "colab": {
          "base_uri": "https://localhost:8080/",
          "height": 358
        },
        "id": "fhRZV_MY645n",
        "outputId": "eaa1fbb5-0611-4795-b6c3-25dd66c84985"
      },
      "execution_count": null,
      "outputs": [
        {
          "output_type": "stream",
          "name": "stdout",
          "text": [
            "Data size: 3848011\n",
            "Sample rate: 48000\n",
            "Song length (seconds): 80.16689583333333 seconds\n"
          ]
        },
        {
          "output_type": "display_data",
          "data": {
            "text/plain": [
              "<Figure size 432x288 with 1 Axes>"
            ],
            "image/png": "[encoded data removed]"
          },
          "metadata": {
            "needs_background": "light"
          }
        },
        {
          "output_type": "execute_result",
          "data": {
            "text/plain": [
              "array([  16.  ,   16.02,   16.03, ..., 7999.97, 7999.99, 8000.  ])"
            ]
          },
          "metadata": {},
          "execution_count": 11
        }
      ]
    }
  ]
}